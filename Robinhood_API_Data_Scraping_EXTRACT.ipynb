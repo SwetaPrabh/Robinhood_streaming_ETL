{
 "cells": [
  {
   "cell_type": "code",
   "execution_count": 1,
   "id": "63d2c8f9",
   "metadata": {},
   "outputs": [],
   "source": [
    "#Importing Libraries\n",
    "import pandas as pd\n",
    "import pprint"
   ]
  },
  {
   "cell_type": "code",
   "execution_count": 2,
   "id": "37c41242",
   "metadata": {},
   "outputs": [],
   "source": [
    "pp = pprint.PrettyPrinter(indent=4)"
   ]
  },
  {
   "cell_type": "code",
   "execution_count": 3,
   "id": "44cb164b",
   "metadata": {},
   "outputs": [],
   "source": [
    "snp_500 = pd.read_csv(\"constituents_csv.csv\")"
   ]
  },
  {
   "cell_type": "code",
   "execution_count": 4,
   "id": "9af0bc36",
   "metadata": {},
   "outputs": [
    {
     "data": {
      "text/html": [
       "<div>\n",
       "<style scoped>\n",
       "    .dataframe tbody tr th:only-of-type {\n",
       "        vertical-align: middle;\n",
       "    }\n",
       "\n",
       "    .dataframe tbody tr th {\n",
       "        vertical-align: top;\n",
       "    }\n",
       "\n",
       "    .dataframe thead th {\n",
       "        text-align: right;\n",
       "    }\n",
       "</style>\n",
       "<table border=\"1\" class=\"dataframe\">\n",
       "  <thead>\n",
       "    <tr style=\"text-align: right;\">\n",
       "      <th></th>\n",
       "      <th>Symbol</th>\n",
       "      <th>Name</th>\n",
       "      <th>Sector</th>\n",
       "    </tr>\n",
       "  </thead>\n",
       "  <tbody>\n",
       "    <tr>\n",
       "      <th>0</th>\n",
       "      <td>MMM</td>\n",
       "      <td>3M</td>\n",
       "      <td>Industrials</td>\n",
       "    </tr>\n",
       "    <tr>\n",
       "      <th>1</th>\n",
       "      <td>AOS</td>\n",
       "      <td>A. O. Smith</td>\n",
       "      <td>Industrials</td>\n",
       "    </tr>\n",
       "    <tr>\n",
       "      <th>2</th>\n",
       "      <td>ABT</td>\n",
       "      <td>Abbott Laboratories</td>\n",
       "      <td>Health Care</td>\n",
       "    </tr>\n",
       "    <tr>\n",
       "      <th>3</th>\n",
       "      <td>ABBV</td>\n",
       "      <td>AbbVie</td>\n",
       "      <td>Health Care</td>\n",
       "    </tr>\n",
       "    <tr>\n",
       "      <th>4</th>\n",
       "      <td>ABMD</td>\n",
       "      <td>Abiomed</td>\n",
       "      <td>Health Care</td>\n",
       "    </tr>\n",
       "  </tbody>\n",
       "</table>\n",
       "</div>"
      ],
      "text/plain": [
       "  Symbol                 Name       Sector\n",
       "0    MMM                   3M  Industrials\n",
       "1    AOS          A. O. Smith  Industrials\n",
       "2    ABT  Abbott Laboratories  Health Care\n",
       "3   ABBV               AbbVie  Health Care\n",
       "4   ABMD              Abiomed  Health Care"
      ]
     },
     "execution_count": 4,
     "metadata": {},
     "output_type": "execute_result"
    }
   ],
   "source": [
    "snp_500.head()"
   ]
  },
  {
   "cell_type": "code",
   "execution_count": 5,
   "id": "fb99adbb",
   "metadata": {},
   "outputs": [],
   "source": [
    "list_of_ticker = snp_500[\"Symbol\"].tolist()"
   ]
  },
  {
   "cell_type": "code",
   "execution_count": 7,
   "id": "fba10a34",
   "metadata": {},
   "outputs": [
    {
     "name": "stdout",
     "output_type": "stream",
     "text": [
      "Collecting robin_stocks\n",
      "  Downloading robin_stocks-2.1.0-py3-none-any.whl (131 kB)\n",
      "\u001b[K     |████████████████████████████████| 131 kB 2.2 MB/s eta 0:00:01\n",
      "\u001b[?25hCollecting python-dotenv\n",
      "  Downloading python_dotenv-0.19.2-py2.py3-none-any.whl (17 kB)\n",
      "Collecting pyotp\n",
      "  Downloading pyotp-2.6.0-py2.py3-none-any.whl (11 kB)\n",
      "Requirement already satisfied: cryptography in /Users/swetaprabha/opt/anaconda3/lib/python3.8/site-packages (from robin_stocks) (2.9.2)\n",
      "Requirement already satisfied: requests in /Users/swetaprabha/opt/anaconda3/lib/python3.8/site-packages (from robin_stocks) (2.25.1)\n",
      "Requirement already satisfied: six>=1.4.1 in /Users/swetaprabha/opt/anaconda3/lib/python3.8/site-packages (from cryptography->robin_stocks) (1.15.0)\n",
      "Requirement already satisfied: cffi!=1.11.3,>=1.8 in /Users/swetaprabha/opt/anaconda3/lib/python3.8/site-packages (from cryptography->robin_stocks) (1.14.5)\n",
      "Requirement already satisfied: pycparser in /Users/swetaprabha/opt/anaconda3/lib/python3.8/site-packages (from cffi!=1.11.3,>=1.8->cryptography->robin_stocks) (2.20)\n",
      "Requirement already satisfied: idna<3,>=2.5 in /Users/swetaprabha/opt/anaconda3/lib/python3.8/site-packages (from requests->robin_stocks) (2.10)\n",
      "Requirement already satisfied: chardet<5,>=3.0.2 in /Users/swetaprabha/opt/anaconda3/lib/python3.8/site-packages (from requests->robin_stocks) (4.0.0)\n",
      "Requirement already satisfied: urllib3<1.27,>=1.21.1 in /Users/swetaprabha/opt/anaconda3/lib/python3.8/site-packages (from requests->robin_stocks) (1.26.4)\n",
      "Requirement already satisfied: certifi>=2017.4.17 in /Users/swetaprabha/opt/anaconda3/lib/python3.8/site-packages (from requests->robin_stocks) (2020.12.5)\n",
      "Installing collected packages: python-dotenv, pyotp, robin-stocks\n",
      "Successfully installed pyotp-2.6.0 python-dotenv-0.19.2 robin-stocks-2.1.0\n"
     ]
    }
   ],
   "source": [
    "!pip install robin_stocks"
   ]
  },
  {
   "cell_type": "code",
   "execution_count": 11,
   "id": "3fe04675",
   "metadata": {
    "scrolled": true
   },
   "outputs": [],
   "source": [
    "#Importing robinhood API library\n",
    "import robin_stocks.robinhood as rs"
   ]
  },
  {
   "cell_type": "code",
   "execution_count": 4,
   "id": "5956f53c",
   "metadata": {
    "scrolled": true
   },
   "outputs": [],
   "source": [
    "#Username and Password \n",
    "# print(\"Enter for login\")\n",
    "# input()\n",
    "# robin_user = input(\"Enter user name: \")\n",
    "# robin_user = input(\"Enter password: \")\n",
    "\n",
    "# rs.login(username=robin_user,\n",
    "#          password=robin_pass,\n",
    "#          expiresIn=86400,\n",
    "#          by_sms=True)\n",
    "\n"
   ]
  },
  {
   "cell_type": "code",
   "execution_count": 116,
   "id": "2234ec02",
   "metadata": {},
   "outputs": [],
   "source": [
    "#Getting historical data\n",
    "def hist_price(ticker):\n",
    "    res = rs.stocks.get_stock_historicals(ticker, interval='hour', span='day', bounds='extended', info=None)\n",
    "    open_price = float(res[0]['open_price'])\n",
    "    close_price = float(res[-1]['close_price'])\n",
    "    change = (close_price-open_price)/open_price\n",
    "    return change"
   ]
  },
  {
   "cell_type": "code",
   "execution_count": 117,
   "id": "3800ee12",
   "metadata": {},
   "outputs": [
    {
     "data": {
      "text/plain": [
       "-0.03936958234830578"
      ]
     },
     "execution_count": 117,
     "metadata": {},
     "output_type": "execute_result"
    }
   ],
   "source": [
    "hist_price('NVDA')"
   ]
  },
  {
   "cell_type": "code",
   "execution_count": 120,
   "id": "f970f9e5",
   "metadata": {},
   "outputs": [],
   "source": [
    "#Hourly tracker\n",
    "dic_hist_price ={}\n",
    "for i in list_of_ticker:\n",
    "    dic_hist_price[i]=hist_price(i) "
   ]
  },
  {
   "cell_type": "code",
   "execution_count": 130,
   "id": "f6f66c55",
   "metadata": {},
   "outputs": [],
   "source": [
    "# dic_hist_price"
   ]
  },
  {
   "cell_type": "code",
   "execution_count": 123,
   "id": "e9acbac2",
   "metadata": {},
   "outputs": [],
   "source": [
    "#Top 10 changes yesterday\n",
    "from heapq import nlargest\n",
    "Top_10 = nlargest(10, dic_hist_price, key = dic_hist_price.get)"
   ]
  },
  {
   "cell_type": "code",
   "execution_count": 124,
   "id": "672809fc",
   "metadata": {},
   "outputs": [
    {
     "data": {
      "text/plain": [
       "['ORCL', 'AVGO', 'CVS', 'HRL', 'HUM', 'ANET', 'SYF', 'CERN', 'WU', 'KR']"
      ]
     },
     "execution_count": 124,
     "metadata": {},
     "output_type": "execute_result"
    }
   ],
   "source": [
    "Top_10"
   ]
  },
  {
   "cell_type": "code",
   "execution_count": 125,
   "id": "51826cbb",
   "metadata": {},
   "outputs": [],
   "source": [
    "dict_top_10_hist = {}\n",
    "for i in Top_10:\n",
    "    dict_top_10_hist[i] = hist_price(i)"
   ]
  },
  {
   "cell_type": "code",
   "execution_count": 126,
   "id": "83a14e1b",
   "metadata": {
    "scrolled": true
   },
   "outputs": [
    {
     "data": {
      "text/plain": [
       "{'ORCL': 0.10392973764215746,\n",
       " 'AVGO': 0.06185726303500604,\n",
       " 'CVS': 0.04511921308671013,\n",
       " 'HRL': 0.039288190432169995,\n",
       " 'HUM': 0.032319912352779985,\n",
       " 'ANET': 0.029551576612264218,\n",
       " 'SYF': 0.020455998295333493,\n",
       " 'CERN': 0.02027695686819644,\n",
       " 'WU': 0.01977401129943511,\n",
       " 'KR': 0.01962158374211624}"
      ]
     },
     "execution_count": 126,
     "metadata": {},
     "output_type": "execute_result"
    }
   ],
   "source": [
    "dict_top_10_hist"
   ]
  },
  {
   "cell_type": "code",
   "execution_count": 131,
   "id": "172e7212",
   "metadata": {},
   "outputs": [],
   "source": [
    "#Getting current price\n",
    "def latest_price(ticker):\n",
    "    res = rs.stocks.get_latest_price(ticker, priceType=None, includeExtendedHours=True)\n",
    "    return round(float(res[0]),2)"
   ]
  },
  {
   "cell_type": "code",
   "execution_count": 132,
   "id": "46d955d3",
   "metadata": {},
   "outputs": [],
   "source": [
    "#Hourly tracker\n",
    "dic_price_hourly ={}\n",
    "for i in Top_10:\n",
    "    dic_price_hourly[i]=latest_price(i)  "
   ]
  },
  {
   "cell_type": "code",
   "execution_count": 133,
   "id": "814d4f72",
   "metadata": {},
   "outputs": [
    {
     "data": {
      "text/plain": [
       "{'ORCL': 98.04,\n",
       " 'AVGO': 618.5,\n",
       " 'CVS': 97.75,\n",
       " 'HRL': 44.97,\n",
       " 'HUM': 452.28,\n",
       " 'ANET': 129.95,\n",
       " 'SYF': 47.89,\n",
       " 'CERN': 75.16,\n",
       " 'WU': 18.05,\n",
       " 'KR': 43.65}"
      ]
     },
     "execution_count": 133,
     "metadata": {},
     "output_type": "execute_result"
    }
   ],
   "source": [
    "dic_price_hourly"
   ]
  },
  {
   "cell_type": "code",
   "execution_count": null,
   "id": "58377395",
   "metadata": {},
   "outputs": [],
   "source": []
  }
 ],
 "metadata": {
  "kernelspec": {
   "display_name": "Python 3",
   "language": "python",
   "name": "python3"
  },
  "language_info": {
   "codemirror_mode": {
    "name": "ipython",
    "version": 3
   },
   "file_extension": ".py",
   "mimetype": "text/x-python",
   "name": "python",
   "nbconvert_exporter": "python",
   "pygments_lexer": "ipython3",
   "version": "3.8.8"
  }
 },
 "nbformat": 4,
 "nbformat_minor": 5
}
